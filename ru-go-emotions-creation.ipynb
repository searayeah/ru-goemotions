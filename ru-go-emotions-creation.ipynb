{
 "cells": [
  {
   "cell_type": "code",
   "execution_count": null,
   "metadata": {},
   "outputs": [],
   "source": [
    "from datasets import load_dataset\n",
    "from deep_translator import GoogleTranslator"
   ]
  },
  {
   "cell_type": "code",
   "execution_count": null,
   "metadata": {},
   "outputs": [],
   "source": [
    "raw_dataset = load_dataset(\"go_emotions\", name=\"raw\")\n",
    "simplified_dataset = load_dataset(\"go_emotions\", name=\"simplified\")\n",
    "\n",
    "translator = GoogleTranslator(source=\"en\", target=\"ru\")\n"
   ]
  },
  {
   "cell_type": "markdown",
   "metadata": {},
   "source": [
    "# Translate"
   ]
  },
  {
   "cell_type": "code",
   "execution_count": null,
   "metadata": {},
   "outputs": [],
   "source": [
    "def translate_samples(samples):\n",
    "    original_text = samples[\"text\"]\n",
    "    translated_batch = translator.translate_batch(original_text)\n",
    "\n",
    "    # If the input text does not cointain any words, like \":(\" or \":)\"\n",
    "    # translator will return None. So, I replace Nones with original text\n",
    "    # as you cannont translate emojis and other stuff like this.\n",
    "    for i in range(len(translated_batch)):\n",
    "        if not translated_batch[i]:\n",
    "            translated_batch[i] = original_text[i]\n",
    "            print(f\"Replaced {original_text[i]} vs {translated_batch[i]}\")\n",
    "\n",
    "    samples[\"ru_text\"] = translated_batch\n",
    "    return samples\n"
   ]
  },
  {
   "cell_type": "code",
   "execution_count": null,
   "metadata": {},
   "outputs": [],
   "source": [
    "ru_simplified_dataset = simplified_dataset.map(\n",
    "    translate_samples, batched=True, batch_size=500\n",
    ")\n",
    "ru_raw_dataset = raw_dataset.map(translate_samples, batched=True, batch_size=500)"
   ]
  },
  {
   "cell_type": "markdown",
   "metadata": {},
   "source": [
    "# Reorder columns"
   ]
  },
  {
   "cell_type": "code",
   "execution_count": null,
   "metadata": {},
   "outputs": [],
   "source": [
    "features = ru_simplified_dataset[\"train\"].features.copy()\n",
    "columns = list(features.to_dict().keys())\n",
    "columns.remove(\"ru_text\")\n",
    "for column in [\"ru_text\"] + columns:\n",
    "    features[column] = features.pop(column)\n",
    "ru_simplified_dataset_final = ru_simplified_dataset.cast(features)"
   ]
  },
  {
   "cell_type": "code",
   "execution_count": null,
   "metadata": {},
   "outputs": [],
   "source": [
    "features = ru_raw_dataset[\"train\"].features.copy()\n",
    "columns = list(features.to_dict().keys())\n",
    "columns.remove(\"ru_text\")\n",
    "for column in [\"ru_text\"] + columns:\n",
    "    features[column] = features.pop(column)\n",
    "ru_raw_dataset_final = ru_raw_dataset.cast(features)"
   ]
  },
  {
   "cell_type": "markdown",
   "metadata": {},
   "source": [
    "# Create .csv"
   ]
  },
  {
   "cell_type": "code",
   "execution_count": null,
   "metadata": {},
   "outputs": [],
   "source": [
    "for split in [\"train\", \"validation\", \"test\"]:\n",
    "    ru_simplified_dataset_final[split].to_csv(f\"ru-go-emotions-simplified-{split}.csv\")\n",
    "ru_raw_dataset_final[\"train\"].to_csv(\"ru-go-emotions-raw.csv\")\n"
   ]
  },
  {
   "cell_type": "markdown",
   "metadata": {},
   "source": [
    "# Push to Hugging Face"
   ]
  },
  {
   "cell_type": "code",
   "execution_count": null,
   "metadata": {},
   "outputs": [],
   "source": [
    "ru_simplified_dataset_final.push_to_hub(\"ru_go_emotions\", config_name=\"simplified\")\n",
    "ru_raw_dataset_final.push_to_hub(\"ru_go_emotions\", config_name=\"raw\")"
   ]
  }
 ],
 "metadata": {
  "kernelspec": {
   "display_name": "DS",
   "language": "python",
   "name": "python3"
  },
  "language_info": {
   "codemirror_mode": {
    "name": "ipython",
    "version": 3
   },
   "file_extension": ".py",
   "mimetype": "text/x-python",
   "name": "python",
   "nbconvert_exporter": "python",
   "pygments_lexer": "ipython3",
   "version": "3.9.16"
  },
  "orig_nbformat": 4
 },
 "nbformat": 4,
 "nbformat_minor": 2
}
